{
  "nbformat": 4,
  "nbformat_minor": 0,
  "metadata": {
    "colab": {
      "name": "Braille.ipynb",
      "provenance": [],
      "collapsed_sections": [],
      "toc_visible": true,
      "authorship_tag": "ABX9TyMi7siqF8owKPmipMhyUeJl",
      "include_colab_link": true
    },
    "kernelspec": {
      "name": "python3",
      "display_name": "Python 3"
    },
    "language_info": {
      "name": "python"
    }
  },
  "cells": [
    {
      "cell_type": "markdown",
      "metadata": {
        "id": "view-in-github",
        "colab_type": "text"
      },
      "source": [
        "<a href=\"https://colab.research.google.com/github/nexaim/eng_Braille_korean/blob/colab/Braille.ipynb\" target=\"_parent\"><img src=\"https://colab.research.google.com/assets/colab-badge.svg\" alt=\"Open In Colab\"/></a>"
      ]
    },
    {
      "cell_type": "markdown",
      "metadata": {
        "id": "Z4-EzQlPQojw"
      },
      "source": [
        "# The Braille Converter!\n",
        "https://hidden-loca.tistory.com/\n",
        "\n",
        "영문 점자 번역 실습 노트 입니다. 질문 사항 있으시면 블로그 관련 게시물 및 댓글 남겨주시거나, 메일 보내주세요. \n",
        "\n",
        "nexaim95@gmail.com\n",
        "\n",
        "이 노트는 colab 무료 GPU 런타임으로 확인 되었습니다."
      ]
    },
    {
      "cell_type": "markdown",
      "metadata": {
        "id": "IqBe907XRjS5"
      },
      "source": [
        "## 1. 환경확인/설정\n",
        "\n",
        "\n",
        "다음 셀을 실행하여 GPU 런타임이 맞는지 확인 합니다.\n",
        "\n",
        "예시)\n",
        "![image.png](data:image/png;base64,iVBORw0KGgoAAAANSUhEUgAAAjgAAAFgCAYAAAC2QAPxAAAgAElEQVR4Ae2dW7L0Oo6re1g1/znUePoE4zRqo7ggWcqr7fweMkiBIEXLsJO59l/d//Ovf/3rf/lwBmgADaABNIAG0MCdNPA/d7oYroWHEw2gATSABtAAGigNMODwFyz+gocG0AAaQANo4HYaYMBB1LcTNb/e+PWGBtAAGkADDDgMOAw4aAANoAE0gAZupwEGHER9O1Hzy41fbmgADaABNMCAw4DDgIMG0AAaQANo4HYaYMBB1LcTNb/c+OWGBtAAGkADDDgMOAw4aAANoAE0gAZup4HDAeff//73//aPJuPC5b/avrN273V0fcWbxXodX4/yOq615458cWWdJ0zWYyNf3G6dXzFfr/hH9Tzu9RxP+ybM8/H5xYYG0AAaQAPSwOGAI2L6ckmY+M/ad9b23tI+wmSP+B4vfzcv8XdqpvyErdR0TtVYqdNzfF2+ash6XJhsiqlG4jgfnxcbGkADaAANSAMMOOEvFPoildVhlU2Yx0ecUV7Cd7EV/gqnX8foWhJP2GyfR2Oz2opheamhATSABtCAa+DpAae+tPyj4rMvM3FGVrmy4mldVr5iZYWN4s6d+V6n8xTruK8TJ2GVk/CEeX35M16P9fVob9WWTXmKrVrVkPW8hCneY30tHpaXGhpAA2gADXQNPD3g9IL6EpL1eMI8Ll88Wccdc784te6Yclet57uv/IQpJps4q5hqHNlUTzmzmDhli9c/HhenYztr78V91UjYaN8RV7WwvODQABpAA2hAGrjcgKPGZf1Lz33Fd2zP7+uqlbC+R+KsYr1WWqda4s1i4sgmbsf6Wrkrtuf2ddVYxUbclT7g8MJDA2gADfyeBk434PQvPF+7L7E65r7iq3aUW3j/HNVMtVaxR2orJ+2h2KrtNfr60TqVl2p1rK99v1nMefi/9yLjnnPP0QAa6Bo45YBTX2T+UdPpC84x95WzYnfyVriJ07G+9j5HsRFeubPYSlz79zp9Ld7MjnIS7pj7qf5RPOWA8dJDA2gADfymBk454LgY/UvNfXEcc1/xI7ubs8JPnI71tfeZYglTziw246S8jvW16o3sjJ9iwmRHdQtf4czyif3mS477zn1HA7+pgY8NOPXltPIF1Tm+7jU8VgLu6xVRz3JSLGF9n8TpWF/3Gn09489ivY6vU17H+trzkz/jp5gw2VRT2ApHXOxvvtC479x3NIAGpIG3DTi1QX0h6aO1Nh7Z/iXma/le0+so7tiRr1rdKm+EKz6yR3kVH+UmvNfTurjyu011OnaUU/GeM1v3elorR2vZEd7jxStMfCwvMTSABtAAGphpYHnAmRX5VIwvOMT8Ka2xD1pDA2gADVxbA5cacBDbtcXG/eP+oQE0gAbQwKc0wIDD/wdZ/rMPGkADaAANoIHbaYABB1HfTtSf+nXAPvwSRQNoAA2cVwMMOAw4DDhoAA2gATSABm6nAQYcRH07UfOL6ry/qLg33Bs0gAY+pQEGHAYcBhw0gAbQABpAA7fTAAMOor6dqD/164B9+CWKBtAAGjivBpYHHP5v0Jz3JvKAcW/QABpAA2jg7hrYnUMYcPgLDn/BQQNoAA2gATRweg0w4CDS04v07r8yuD5+SaMBNIAGXq+Blw84VbB/dOM6rnXF5XdL7O951hlxLpwLz8o/GuB5+OcsXBecC+fievjl7456Fo4+/CeqhUM6OkTix0LjjDgjNIAG0AAaeEYDGuhWazDgMOAcTsGrYoLHywsNoAE0gAbepQEGHAYWBhY0gAbQABpAA7fTwNsGnHdNZNRl2kcDaAANoAE0gAZerYHl/0T16o2ph5jRABpAA2gADaCBd2mAAYc/Y97uz5jvelioy4sYDaABNHAdDTDgMOAw4KABNIAG0AAauJ0GGHAQ9e1EzS+s6/zC4l5xr9AAGniXBhhwGHAYcNAAGkADaAAN3E4DDDiI+naiftevAerySxMNoAE0cB0NLA84u//7c0RwHRFwr7hXaAANoAE0cHYN7M4hbxtwUiPCZHWYfV34CCtcH+W7TXmKz2LidKu9ZBXvtfq6eAlT/ort+bX2j2o45r7iR7ZyEsdrjTiP5O3USvVfgT16bdr7LNegfsp+qqdP7ePXduT3nmrtH893vOc5r/uzvFms1/H1LG8W8xqf8r0f7VmYfFlhzhcmjuwIV7zbzu/rzn/V+lP7rPQ762UWG9WuHP+MeGfAd6/vcgOOH3K62IQpZxYTx23iC5MVv68LT5j4R7ZyPd995QqTFb5jKzflr2J9r6O80X69zrvXvc++Ptp/l39U75F476GvH6m5kvOpfVZ6KU714z25rxrCZIUr39fJn+XNYqmWsFneLKb8T9rej9ay3oswWcX6uvCEiZ9s5/d1ynkF9ql9jnqtPka9zGKjuqlWwkb5n8Z3e3vrgNOb0VpWh9PXhT+KpbzZPoolm2oJK5t8r6O4Y6u+16+cWa1ZbGW/lL+K9foreYnT67x7nXpI2Lv7eKZ+77evn6n96dxneq9cz3e/X0eKJWwnL+Un7BM1+x6vWKdrESbr+wiTTTFhiaNYsp3f1ynnrNijvc/yZrF0DomfsJT7DWy3t58ZcHQwsis3Z8atmOLue13FHVvxlSdbOe73GrNY56Z1yl/Fer2VvMTpdd69Tj04Jr+sfO9pBesc1ZJN9VLMee6n+j2ueiOu4qt5xeu1Um7C0l7izWqKk6zyZIvjfs9JsYT1vLSe5c1iqpU4CZvxFXun3e1JfFnvzTH5ss4b+Z2b1oXp43XEHcWEi5dyHZOvPK3LCpP1mPy0j2IzO8ubxWY1PfaKGl7vlf5ub28dcOrCvKHkO+YHkfAVLHG8j1Hc93Z/xC9cMfdXcp2TfK+ruPZwuxITZ2a1n3NWMc8pfyUvcXqdd69TD46V7+veT4p1zNfuq5Zj5ftanCOrHFnx+7pwx8r39Wper6O8jntt9zvP8x/xVVtW9WvtH9V23gxTrNtUM3E6ltYrvazsl2q/Ekt9qn6KCZMVt6xj8mWdN/PFlxW3r9N+R5xRrZSX6u/mi79jR730fnZqijurLc437W5/Pz/g1IGlj99ExTtWax24bOI4duR7nZGvGorLCi+bMI+7n7irmNcZ7dtr9XWv8Yl16sEx91M/Kd4xX7uveo65r/iKVZ6scvq6cMfcV07nOO5+yp1hPdbXXnvH9zojX/UUlxVeNmEeH/kpL2Gvyt+pPdrzEXy2b4oJk/U9HZMv67yZL76suH1duGPuK6dzHHc/5c6wHutrr73rz2rNYkf7PJN7VPtV8d0e3z7g1IWpKdkR5ofgXOEr2KMc7TGzXlt+t56vmGNHvueMfNXwuDDZWUwc2RG38P5RzsimWh3r61Gtd+KpB8fcT32keMd8XX76qLZzha1Y5ckqJ+3lHPeVI6tcrbtNuTOsx/q6119de52Rr1qKywovmzCPj/ye19ejPOGJn7AZX7F32t2exJf13oTJKtbXwpMVV1acWqePx+V3q7yOa933KnyG9Vhfq+4jdlZrFpvt9WjerOY7Yrt9/syAUwfjn0cPXwc8sl5XHMdmfuf72n3VSNhKTBzZWR1xyq7wEqdjfe17fMpPPTjmfuppFBcuq9y+Fi57FBevW+XJKt7XwmWP4sUrTuLtYp3f19pLva3YXsPX7quWMFnhZRPm8ZHvee6P+B1POQlT3iwmzjvsbN8UEybrPQkr2z/Om/lew3nCHXP/KF5c9eR5wnewvldfj2r2PdI61RJvFhOn20dyeo1PrXd7/ciAUxdfjfXm+toPKcVWsEc5vrf8Wa0e62tds2qt2KqRPqNa2lPW90iYx91f5a7wEqdjfe29fMpPPTjmfuppFBcuq9y+Fi57FBcv2ZSbMM89is+4KXeG9Vhf114J8x66X/z0GdVSfVmvlzCPP1Kz56d12leYrOclzOPv8tO+wmR9b2GyK7HE9bzuJ37CPO8oPuOm3BnWY31deyXMexj5s7xZLNXb5acan8R2+730gJMudgVLnHSTEk+YrPL6uvCEib9iPd995QqTFV62Y30946b8hKWaK1jieD+f8HsPR+veU+d7PMWOsBT3mjM/5R5hKV57JLxjfa3eHB/5oz1U41E728/3dJ726lhfe75yHEt85znX8ZQnTPaI7/F3+r0frWV9b2Gyivna/Yr3tXJGNvGPsBQf7d25fa2+HB/5oz1UY9f6Pj13Nzbj99pnWO/2+7EBpw6nN9fXfoApVph/nC9/lKd42cTxuPu+n+e5P6rZOV53xe/5tfaP13C85436U37iK8frii/76jzV/YT160rXkTDvaxYfxQr3z2o95yX/1ft5j6l2wtSXcrUu2/l97dxH/V5Tfch6XWGyHiu/8I4JV45zHHPfazi/47OcUcxrfMof9eJ4+epnhFfceWmtGiPb88Xb2VM5ZWd5ijvffeV2bLb22K4/uvaqsxtT793u9vQp/uz6Ug9vG3DSZmD8/zpBA2gADaABNIAGHtHA2wacR5ohBxGjATSABtAAGkAD39DA8l9wvtEce/JQoAE0gAbQABpAA49ogAHnXwjnEeGQg27QABpAA2jgzBpgwGHA+c8/CjyzUOmNFykaQANoAA3saGB5wNn9xz07TcBFtGgADaABNIAG0MArNcCAw19w+AsOGkADaAANoIHbaYABB1HfTtSv/AVALX5RogE0gAauqQEGHAYcBpwLaID/RHzNF+ydvhjRIBr8tp53NciAc4Evt2+Liv2//2LbfbC5Z9+/Z3e7B2gQTX1b07saZMBhwOEvOBfQwO6D/e0XEfvf78sQDd7vnl7tOd3V4FMDTm2WPnVoCVdzxP6eG2f290zQS36O9FLiOfqrGZ6jv2fyjucIDeZn8x1nTc181tLgzD414MwKE2PaRwOv04Becpzp686Us9w7SzS4d17o6/XntatBBpwL/OcJHpTXPyhXO9PdB/tq10e/59c4Gjz/Pbr7c7SrQQYcBhz+Dc4FNLD7YN/9Rcf1ff7LFg1+/szR+X+f+a4GGXAu8OWGyP9b5JwH54EG0AAaQANHGmDAYcDhLzhoAA2gATSABm6nAQYcRH07UR9N9cT55YcG0AAauL8GlgccxHB/MXCPucdoAA2gATRwFw0w4PAXHP6CgwbQABpAA2jgdhpgwEHUtxP1XX59cB38kkYDaAANPK4BBhwGHAYcNIAG0AAaQAO308DygLP7vz9n6nx86uTsOLuuAZ4/NNE18ek1GkSDn9Zc329Xg28fcKohfdSs1m49Jl+2ePIfsSk/YY/U/sUcv2/yP3EOd71n/br6us42YbMzL37/zPiviq32ucp7VV/fqrNyDz59Fo/ut5vX+X19dE92+Uf1Kj6rOYut1HZOqpUwz7mSX9eSPn4NHne8/Fmsc31deb4+8t864PRmtJb15oTJpphjO/47au7sfzfut84z7Xt0to/kHNV8dbz32Ne1X8JmfSR+wmY1Homt7rHKe6SHM+X06+zr6jVh77yGR/fbzev8vj66xl3+ylnOas5iR732eKqVsJ53lfXRtfS4r92v6+3r2RnscKvO2wac1IgwWb8QYbIp5tiOXzV73b7eqffr3HR2CTvDOZ21Lz+b6lF9ut85vj7yVc95CfP4K/zVPVZ5r+jpmzXSdSbskz0+uv9uXuf39dE17/Kr3iM56uOZXNWQTbUSJv7V7OxaUkyYrF9vwjzu/g638j464KjR1KQwWXHLJszjR37l9xq+Vtwx7StM1vfyvBR37p38dK2Ozc5FPHH8XITJeqx85SZcOc5xzHHlj+IjXHnqRbwRnvZ0rnyv477iZVdrKSfxhcmK2+tX3D/OO/JTbeWoZt9P8TvadB4d62udg85L1vHyO674zGov2Rm3x3ZzOr+vq35hCVes9yA85QmTHeUmXHVTTPVkE6djxR1hqiPbebVWbFRnhHuu1xVfdT32iK96KffRWKrVsVntzq31zww4dbF+OPJldTi+lt9tr5Vyhd3R6jz82oTJplhhFT/iKLfz+lr1xJd1nvuKH+X1nNV154328T7EUW5Z+c5LmMe7n/jCZD1HmGyKOTbyU35xHS/f16Nad8DTdXasr/t56RzEKyt/xFVOt8qT7fHZ+pmclOuY++phBeucvlYt2Vk8xVYx1Zed5fXYztq57te+te6Y9zOKibNjZ7Ueja3sP6ud8j8y4FRT+lQT8t2qucLkyyZMsRWrfNnKcd9rOC6/21G+eF7vjn5dZ//oOtMZOOa+csqO8CPOUd4onnBhstrb1+4rLptiwsqmT+U6x9eqO8I83v3RXqNavYdeT3mzuuL0XNV2PGEev4ufrrNjfV3XnjCdSYolTHy34sl67Mh/Jqfn9nXt3bG+Tv11Tl/3nFk8xVaxlX1US1Y5vnZfcdkUc8x95cjOYuLs2KqXPlVjttcstrL/bv5HBhw1ruZkhbtNsYR5zpHv+fJlK7d8/6ieON2mHOUr985W55GuUefQrbgrueJ2O8rVXp1f66Mc5cqmHK/hft9PNbrtvL5WzW6dp5hjMz/xhcl6vmPl+9p5R37KW8WOal8xvnLtiVPXWniKrWL9vHpeX3d+X+/ydQ1uVTPV6lhfe27F9BGe9vHYUTztpz267XX7elQr9eBc93dqprqeP6vrvFV/Vu/R2Mres9op/+cHnH5gvpbfbR2ksHSod8dm1z6LrZ5b1Uh1EuZnnfJGOSM89ehc933vlNfjo7Vqdut8xRyb+YkvTNbzR1jCPa/7ib+K9Vp3WK9ce+L4tVfcOe6LlzDFZFXHrWIrdmWPXkc5sor3deEd6+sVTsrRnin/KHZUz/PdT3nCZMX3tfuKy6aYY+4rR3YWE2fHzuo9GlvZf1Y75f/cgFOHUIekg5LV4fhafreqoZxfszqPdN2z2O659Vp9nfbve4xyRnjP7+udvFF/He81+7r30PPTelZjFlutlXiFrdZOvFHNK+PpOjvW16PrFU/WeQnzePmd09ed39e7fOWnvBXsEU7KUR9lZ/EUS5jXG/kpT5iscn3tvuKyKeaY+8qRncXE2bGzeikmTNb3SpjH3d/hVt7bBpwq7s2Ur7WsNy4/xRIm/ort+bUWJlt1HNc6WcfK18drCbujnV1nijnmvp9NwjvW15V/hKX4UV7PWV133mgfv+7EebSO153V6LFaC5M9quVx91N+xR0v39eefze/X2df97PR9c94FfO4+yv5M45iyaZ9Eq9jozzH3Vf+EVbxzulr1ZKdxVNsFVN92Vlej+2snet+7dvX6uUothL3Wiv83ouv3V+p5Xv3XI8l/60DjppXU92mhjyn+MoZcVfwVMMx36f76set9hRXVvjdbV3v7Bp1HrLOneWKL+t55Y9yxZdNeSlXfFnldW5fq5ee1/GUpz3cdl5fq67nHPnqza3ndNz39Jjjnj/yZ3zVrdwZb1T7iriuWTZdw+gslCOrXPE7rnhZcWZY4ji/+7t85c/yKjaKz3DFUn7CVnsRz63qyXps5osvK26t5Zfta2E9TzkzXJxu0x7OOYo7t3z10K3zPOZ4z++x2Xq3z7cPOLNmif3z1x/OgrOYaWD3wZ7VInZtrX1LC9/aF71eW6+vvH+7GlwecF7ZJLUQLBpAA2gADaABNPBODTDg2L+heedBU5sHGQ2gATSABtDA5zTAgMOA81//PZiH73MPH2fNWaMBNIAG3qcBBhwGHAYcNIAG0AAaQAO308DygLP7j3uYSt83lXK25znbTz0Xn9oHbZ1HW2e7F2gQbXxbk7safNuAU42kzzcO6Cx9HF37u/tU/aM+juKq4/Yo55l47dPzE9Y5n1inPt5xLmmfT1zfWffo59HXZ+3b+0o9J8xzvuk/2lvl6aP+tXbrMfmyxZM/somTsJ18cXfqKOfIVk19jrhXivez6utnrmW31lsHnGcu5B25u4fzjh5mNVN/CZvVGMVeVafqp1oJG/Wyi6faCdut+yw/9dCxvn50z1fVeXT/s+X18+jrs/Wb+kk9JyzlfgN7pLeeo7WsX4cw2RRzrPtHeSnuNWbxWcxrrPq9Xl+v1nkF79V793p9/UzPu7UYcE70313TzUvYIwJ5VZ3aO9VK2Kv6TLUT9sh+z+T0Hvp6dFaP7JlqP1LnLjl1HjoT9690ferfe06Yx7/p7/aW+MJk/XqEyaaYY90/ykvxXmO0fia310y1Etbz3rV+9d5VTzXdf0X/qrta62sDji68N+x4j61e1Ig3qjfaU3jV67laO2e07yqums53THvJJt4oJrys5z3ipxrCRlb7eFy+YmUfwSrHP72eYo7L91j5Hfe4YrLOL6yvxZNVrc7TWnHx3Yrj2C/7flbu60yEyXa81hUT7rbnKCZ+jwsXr2zCPD7ieJ72kfV8Yc5P8b6P541yvY77r+SnWsJkd/ee5VXMP15bfspfiYmzamf7qIZ61bqsY72G1s5RrmJaq5ascka8Wdxryhff6yv2rE09zmp+ZcDpTfrafR3Q7AJ2Yr32qL54I6s8xbXe6SVxvZ7iwmSFl3WsfF87r3N7bHed9hE2stqj4uIIO7KJL0zWawiTVWy2rpjissor27G+TpzV/Krl9dxXjYQp9ovWz8z9Oot0VsJGVmeoeKpTMY+nnBmmmOys1k6sc31dvtay2r9swjzu/g73qHaqJUx2d++jvBRf3eMo1+sc+Ue1PJ58YbK1X/l9rT4cT1iKq6b4siOu4soTr6x85zzq79Z664Cji5MdXZQ37b4Oa5S3i/fao/rijexR3m5f4td+/eMx+bLqr9buK+72KO7cI7/36LXld6uawrVesSlHmOxunZQnTNZrdqyvi5swr+G+c90Xp2N9Ld6vWp1Ht3UewvxshI3sUd4orj1Ut/MKT5/O63W8nmIj61z3xRcmK7xswjzu/g63165cfRTTWlZ71Vq+rDBxu1VN8WWVN4qLdxT3Op7ziD+rlWLCRnbUe+d7r4qNcke453k998Xp1jmP+qq5mv/WAWfWRDXqH3H7BfS1eI/YVMt7cL/qi9+tx7wP8Rzb8Wf5FUsf1Z/lFucorjordlZLsW5VV7jWKzblOFa+r72mYrKKJb4wcbtVbllxj7Ae95qKrdRKHOX/otV5dFtnUVj6KJasY+Xro/qj+C5P/FG9vp+ve65fo2KJL8z57iv3yKrOEU/xxBcmK67bFEuY55SfOI6533NH+eId5Yq3Yme1UkzYyI5673zvTbFRrvDi9Y/XSb5qd5u4u5hqruZ9ZcDpTfra/bqIvl69sMRLtRKmXMW6HfUlnvJ37Sx/Fhv14/sf5Tv3yJ/VUqxb1RSudbcpvoM51/3ax9fuqwdhssK7HcVHeN+7r1Nex/q69/Rra51Ht/1s+7l0vtajvKO46osnK3xmE3eEOe5+77vHPJ5is/56bDc/8YXJ9j28X4/N+OIljmPuK8ftLD6LeY0Vf1YrxYSNbO2pmO8vTDbFRrkz3OskX/t1m7i7mGqu5jHghD+H6vB0mN1WXJi4I8zjR36qqZxZbGXvo3zts2KPaiku6zUTdhRPOQlTHcVkO57WxRVfVrxuR/GEC5NVLV+7n+KFJY64v2j7efja/X42inU7OmPxRnGvX1zneyz5iZsw5Som2/G0Lq74suLt2t38xBcmm3pIsYT13MRxzP2eW+tZfBZLtWZYqiVM1vOFjeyo985PNUe5M9zrJF/7KtbXwh+xu7W+PuBUw960+3UAff3IoSgn1ZphinWrvoRrrX0etV6v10gxx9zvubU+iqecEXZUS3FZr5Mwjyc/5QiT9TxhshUr39fiO664rDjK1zrFRzFxZVXraK16ss4X9su2n4ev3dcZCRvZzqu1uCkmzG3neyz5iS9M1vOEyVasfF+L77jisuIo39czP+XP+L1+6inlp30S1nMTxzH3e27vtcePcjv/aN3r+frIV1xWvfe1enD8iKsc8Xw9wo44ff/VOr3uI3lfGXDUqC68rPt+YcIde9Qf1dL+sqovfrcVd0y+8h61R3Uq7h/fZyXX+c/4q3slXsJWeqk8/3iO472+YsXvvtdQXJi4so7LH1nllHWO8MK63zHPU6xjv7xOZ+vnofOVVUx53Spetucophytuz2Kd36ttZesc4TJppjXkO+8jqmWbOfO1pUzi49ivpdqyB7leO6I67j4sh4rf4Qr1vlaV578V1n1kmor5nuJ121xHJPfcwtXTFYcjwlTXcV6jvPc77y+Vl3PWfVTrVnu2wac2aZ3iO0e9B2u+W7XUPfQPyvX9477vlJzhbPSP5x//gHxq85CGnpVvWfrqB/ZZ+spHw2+Xjs622ftr9yb3etcHnCevQHkn/fh4N5wb9AAGkADaOBuGmDAsf9J6N1uLtfDCwsNoAE0gAZ+VQMMOAw4L/9vy7/6MHHdfJGgATSABs6jAQYcBhwGHDSABtAAGkADt9PA8oCz+497mGLPM8VyL65/L3j+rn8Pr/4cokE0+G0N72qQAYep/XZT+7cfwnfsv/tgv6MHav72FxwavOb97/etr+u5Tpie94rpI2xme62+nuUexXZrMeAw4DDgXEADuw/20YuC+DW/rL5539DgNTXT71tfl6YSlvARz3XZOX3t3F1/txYDzgW+3HZFAP+aL6LZfdt9sGe1iN1PH5+4p2jwmrqp+6Z7575rRvFHMM8p3/dwv/MeWac+Z3UYcBhw+AvOBTSw+2DPHnpi1/yi+vZ9Q4PX1I0PGe67ntK9TZjnjHzfw/0Rfwff7YkB5wJfbjsCgHvNl9DRfdt9sI/qEb+nTt55X9HgNTXjQ4b7rpV0bxPmOSPf93B/xN/Bd3tiwGHA4S84F9DA7oO989KAe80vrk/fNzR4TZ3ovnXr+lFshFVcH+ckX7W6TdxdTDVX8xhwLvDltnoz4V3zBbRy33Yf7JWacO6rl3fcWzR4Tb3ovnXrGlHsEcxzyletbjvvkbVqruYy4DDg8BecC2hg98FefQHAu+aX1jfuGxq8plZ037p1DSn2COY55atWt533yFo1V9zI5s0AACAASURBVHMZcC7w5bZ6M+Fd8wW0ct92H+yVmnDuq5d33Fs0eE299PvW16WVZ7CutV6rrzt/Z71biwGHAYe/4FxAA7sP9s5LA+41v7g+fd/Q4DV10u9bX5eOEtbx4ox4rsXO6ete13OP/FRrlsOAc4Evt9kNJHbNl87ufdt9sHfrw/8NHT1zn9HgNTXS71tflyYSJq1UTHFZxZLtnL4+2i/VFJZqKZYsAw4DDn/BuYAGdh/s9LCDXfML6iz3DQ2in29rcVeDywPOty+M/Xm40AAaQANoAA2ggVUNMOBc4Nf76s2Ex4OPBtAAGkADaOD/a4ABhwGH/0SFBtAAGkADaOB2GmDAQdS3EzW/XvgFiwbQABpAA8sDzu4/7kFciAsNoAE0gAbQABp4lQZ25xAGHP6Cw19w0AAaQANoAA2cXgMMOIj09CJ91TRPHX4ZogE0gAZ+RwMMOAw4DDg31MDug81L/3de+p+612gQTX1Ka6N9djXIf6K64ZfhSBzg131B7T7Y3Ovr3uuz3js0iKa+rc1dDT414NRm6VOHkHA1R+zvuXFmf88EvfzzQtVZ+AuG5+ivZniO/p6JtPOoXqQ51dGas379WT96j+6eJ80lDSqW7FMDTioI9s+XEmfBWTyrgfTierYm+ehyRwNoEL3s6OWd3I8OOEn4aoDY3+m+bjznwrm4Bo40oZeFniutj/J8D/fJ+6s/na2fk/u/fmbSnM5J618/F9eI+5zL658xaS5pULFk+QsO/waHf5R8AQ3sPtjpYQfjl/gzGkCD6OcZ/bwid1eDDDgX+HJ7hTCoce2X0+6Dzf2+9v0+4/1Dg2jq27rc1SADDgMOf8FBA2gADaABNHB6DTDgINLTi/TbvwLYn1+iaAANoIHraYABhwGHAQcNoAE0gAbQwO008LYBh2n3etMu94x7hgbQABpAA7+qgeV/g/OrB8R183JAA2gADaABNHA9DTDg8GfM2/0ZkxfR9V5E3DPuGRpAA6/WAAMOAw4DDhpAA2gADaCB22lgecDZ/cc9r57EqMd0/8sa4PlD/9/WPxpEg1fT4CkHnHqQ/PPsoXot+c/WVH7Vk/+sVW9uRzVfue9oj1/HdR9G5zCLz2KjejP8kfutHmS9vjDZK8a85+7rumQ9LkzWYzNffNkRt+KjWMdVS7bHZ+ujnFl8FhvtWTmjGDjDz6oGpD3Z1bzi7WrwdANOuoCE7RyKuK+qo3qPHLjnjvyjPit+xBnVBl97Efn5uq/zS9hKTJxdO9sv1Up8YbKeJ0z27DHvr/uPXkOv4+tZzc5LXOfIT7yEie/Wee6Lk7CVmDjJzmomPtjau+aXzilpKGGjM9nhVg0GnCf/u+vugY9unONHNSt+xPF6+HsvmnS2HetrP+NZzHk7/m7NxBcm6/sLkz17TP3N+hWnrHiyKSZsheM1lScs5TtHfuIlTHzZxOlYXyu37CzmvO4/mtfrsN57H93pvJKGEja65h1u1WDACf8fvv1w60D947HyRwc+y+k1+npU0/ebcXo91nsvlHS2jpXvHz9fxz3HOY/4u7USX5is9yFM9uwx9TfrV5yy4smmmLAVjtfseSlfHLeJlzDPKT9xHCvfP57vuOc4Z+Tv8kd1wPfeR3c6r6ShhI2ueYdbNX5+wEkHJkzWD7tjfV3cjvW110v+jK+YbMoHe+4Fks62Y33tZz6LOW/H362Z+MJkfX9hsmePeX/df/Qaeh1fz2qKJ46s8JFNvIT1/MTpWF97jVnMed1/NK/XYf3c++nK55c0lLDRNe5wqwYDTviHczpE2dFhF/4qju8xqum4+56L//zLI51tx/raz30Wc96Ov1sz8YXJ+v7CZM8e8/66/+g19Dq+ntUsnsfd9xrdT7yEPZI3qzOL9b18/Wie18B//v105TNMGkrY6Bp3uFWDAaf9ObcO0A+xr/vBO9djypP12JE/q6ncEUdx7OMvknS2HetrP+9ZzHk7/m7NxBcm6/sLkz17zPvr/qPX0Ov4elazeB5332t0P/ES9kjerM4s1vfy9aN5XgP/8ffSHc4uaShho2vd4VYNBpzwF5x0uHWw6XBXsMRJewhL/I71tXKxz79A0tl2rK/93Gcx5+34uzUTX5is7y9M9uwx9TfrV5yy4smmmLAVzqxmyldtt4mXMM/xfR3veX0943ps5s9qzvKIPf9OussZJg0lbHS9O9yqwYCzOODowPsB93XxOtbXqjWyiV9Y+oxqgD/+Uhmdv59p4ig+i4mza3drJr4wWe9BmOzZY+pv1q84ZcWTTTFhK5xes3L6R/VGdnWfnr+SlziqM4uJk+yjeakW2OPvpyufXdJQwkbXuMOtGgw4YcDRIcr6YXesr4vrWPm+9lojf4W/whnVBz9+ufj5uq+zS9hKTJxdO9sv1Up8YbKeJ0z27DHvr/uPXkOv4+tZTeeVv8pd5fX6fY/dOomf9ujYo3m9Duvj989dzyhpKGGj69/hVo3TDTjVVF2Ef0YXu4uPDsf36pxZTL2mPpQnTq+bcoStcFc4qod97IXi97Cf4ez8Z7FeZ3X9SE31L+t7CZO9Ysx77r6uS9bjwmQ9NvPFlx1xK95jCSuOasn2vNl6ljPaT3vO6o5is5qjHPDH3j13PjfpVnbnWnc1eMoBZ+eC4fIA/YIGdh/sXzgTrvGzzz4a/Ox5o++/572rweUBh8P+e9icCWeCBtAAGkADaOCcGmDAefL/VQPCPqewuS/cFzSABtDAb2uAAYcB58+/F+Cl8NsvBe4/9x8NoIE7aIABhwGHAQcNoAE0gAbQwO00sDzg7P7jnp3p7521d/qAe+9fLVfW2ZV7P/NzxbmuP/Oc1fpZnVnzV+5tV4NvG3BSIwmrw054wt5xY2qf9NFePSZc1uPCPm29B/negzBZj33Drz5G+6aYsG5HNUa48kfxFbxqpI9ye8zx8tWDrOJHdpd/VO/T8aNzUT/pOkfYqKZqrdhUe5aX+L0Prb1Oyqu4uLI9R7jnu68anjfDvF6v02v09S6/5397/cy1f7v3o/1fcW2qcbTXavwdetmt+fUBZ9TwCF893Gd42lvWaznmfnH62vPe6ad9hcn6/gnz+Dv92nu0/ygmfrc7fSp3J2eVq9qynidsZJ0785U/45w1lnoXJqve+7rwZzDVTTbVTTxhxU85CVNO2Z081ZLtdVQv4a/CvI77qSePn9lPvTvmfl1HX5/52lK/u/3v8lfOY1RzhD9Tc5T71gGnX0hfpxujRhNXsXda39d97SlMVnjZhHn8XX7aV5is750wj7/bn+2fYsK63elTuTs5K1yv675yhY2seEdW+Ue8M8ZT78LKJv/oOpTjvIR5vPu7/MpPOQlb2SvlCZP1OsLKJt+5yVeOxxLmcfd3uJ53Bj/1Lqzb6lfYGXpf6SH1m7BRrR3uqEbHRzVHeM9P693cUw44ugjZdKHvwnxP97WfMFnh37SpF2Gy3l/CPP5uf7Z/ignrdqdP5e7krHC9rvvKFTay4h1Z5R/xzhhPvQsrm3y/DsUfwTyn+6lu5/R1yknYo3mqJet1hJVNfuI+gnmO+9rTsav4qXdhI3uVa6s+dQ3es2Pl+6fzVmI9x9fl+35pLWy0V6+X1n2PxHHsrQNObeQNud9j3pR4sh57p9/362vvOcXe2dusdupFmKznJ8zj7/Zn+6eYsG5X+1TeKn+V1+v2ddURNrKP7rWadwaert17EVY2+Yn7COY57mtPx1b8lKdrcNtrjfJGvBlf+1Su+15rln/E87j7qabHz+yn3h2TL3vma0m9pb6FyXpex/q6uB3ztfuq27G+HvGEr9hRzVEuA479TwP74fV1HaIw2dHBfhKvXvrH95/FnPcpf3Z2KSas29V+lbfKX+X1un1ddYSN7KN7readgadr916EjWzidqxy/ePxI1/7HvF6POWtYCuc2ks8Wd9f2Mgmbscq1z8eP/K17xHvjPHU+yp2xuvpPc2uZRZTncRRTNY57qd4YYkzw1VnZkc1RzlvH3D8gnpzfe1cNZw4ir3a9r362vtLsVf3s1pv1kuKJWx1r1fwZvunmLBuV3tR3ip/ldfr9nXVETayj+61mncGnq7dexE2son7COY57mtfx1b81bzO6+va6wireP94nvJlvf9nMK/jfqrp8TP7qfeO9fWZr6f3lnoXVjZ9vIa4jpXf8xRP/I719SxXsSM7qjnK+9qAM2q08P4ZNf9KPPUzw1Lslf3s1Jr1kmIJ29nvWe5s/1FMuOxqD7v8Z+qmvRyTL7u6V/Eeydmp/05u6l3YyHo/4jyCeY78VE+xI7ua23l9XfusYupJ/JEVb6e2annuyN/hjmp8C0+9d0xr2W/1+si+qWdhsrO6idMxX7uvuh3r6xFP+Iod1RzlfmTAqc2rMW/OfW+u433t3Ff6aZ8ZNou9sq+VWqkX5aVYwsT/hJ3tP4oJl13tc5f/TN20l2PyZVf3Kt4jOTv138lNvQuT1f59Pbr2VZ7quk25Hp/5KXcFW+HUvomnfhST7bjWozo9b8TzOu6nfI+f2U+9Oya/2zNfk/emvhOWYs4rP3E65mv3VatjfT3iCV+xo5qjXAac//s3OOngjrAe7+vRob8an+2bYgl7dU+zerP9RzHhsrP6Htvle+7MT3WPMMVlZ/V77JGcXuNb69S7MFn11teFP4OprttUz+MzP+WuYCuc2lc8We9FmKxife11xNnBPMf9tI/Hz+yn3h2T3+2Zr8l7U9/CfO1+ihd2xKm4c9xXfsK0n9vO89iRv5v7sQGnGldzsulieqyvU84rsNE+hfun7zWLde671qPetZ/3eMRVzjvtrIdRTLjsSn873JV6zhnVLtw/KWeU69zuP5LTa3xz7Wfi1+J+9dfXM2xUc3adqf6M32Oj/KNeHskb1ey1+vrVZ6YzSPsodgX7zHme/fpG16a+V+LiulVeYe77unCte66v3e+1PDbztdeM47G3DTi+Sfd3m+z5rPn/ibKigTvp7E7XsnLv3sXhHB9/d3B2j5/du/T8a3V3Nbg84PzaQXK9PMxoAA2gATSABq6rAQYc+7+Dg5CvK2TuHfcODaABNIAGXAMMOAw4w//P3i4UfF4caAANoAE0cCUNMOAw4DDgoAE0gAbQABq4nQaWB5zdf9xzpSmPXvlVcnYN8Pyh0W9rFA2iwUc0+Erd7NZiwGFqv93U/shDePac3Qf77NdDf9f7skSD17tn73rOkhYSVvsnPGErve7mMeAw4DDgXEADuw/2yssCDl9YOxpAg+hFeklaWMWqRuKq9szu5jHgXODLbXbDif3GS2f3wUYXv6GLT95nNIimpLfSQtdDXxc3YTNc9Ud2VG/EZ8BhwOEvOBfQwO6DPXrgwfmSelQDaBDtSDulha6Hvi7uDEsx1R/Z3RwGnAt8uY1uNvjvvHB2H2y08Tva+NS9RoNoSlqTFmQLdz+tZ7mKHdm+xxGfAYcBh7/gXEADuw/20YNPnC+rXQ2gQTQjzUgLsoW7n9azXMWObN/jiM+Ac4Evt6ObSPz+L57dBxtN3F8Tn77HaBBNSXOuBfmyiTPCeo54I7vLZ8BhwOEvOBfQwO6DPXpBgPMl9agG0CDakXZcC/Jli+O+coRXzD8eP/JHdUd5DDgX+HIb3Tzw33nh7D7YaON3tPGpe40G0ZS01rVQa8fcV07Zjve1c5O/y2fAYcDhLzgX0MDug51eDmB8QT2jATSIfqSfroVaO+a+csp2vK+dm/xdPgPOBb7c0o0G+62Xze6DjT5+Sx+fuN9oEE1JZ0kLwmTFddtjfe3c5O/yGXAYcPgLzgU0sPtgp5cDGF9Qz2gADaKfFf28Uye7tZcHnJULg8MDgAbQABpAA2gADZxBAww4F/j1fgah0AMvLDSABtAAGriSBhhwGHD4T1RoAA2gATSABm6nAQYcRH07UV/pFwa98osYDaABNPAeDTDgMOAw4KABNIAG0AAauJ0GGHAQ9e1Eza+h9/wa4lw5VzSABq6kAQYcBhwGHDSABtAAGkADt9PA8oCz+78/v9KUR6/8Kjm7Bnj+0Oi3NYoG0eDVNMiAw9R+u6n92w/hO/bny4Uvl3foaqcmGkSDO3p5B3dXgww4DDgMOBfQwO6D/Y6XCzV/+wsODf72/T/D87+rwcMBpwr2jy6041pXXH63xP6eZ50R58K5rD4rPH+8X7pWPv0OQYNo8CwalBaTPRxwlKQHSGss0zwa+JwGeP4+d9boOp81Gszngl4+dy67GmTAucB/nuAB+twDdNaz3n2wz3od9HVdLaPB6967uzx3uxpkwGHA4d/gXEADuw/2XV5oXMd5vlTR4Hnuxa8+F7saXB5wfvVAuW4eajSABtAAGkAD19MAA84Ffr3zYF3vweKecc/QABpAA9/VAAMOAw7/iQoNoAE0gAbQwO00wICDqG8nan41ffdXE+fP+aMBNHAGDTDgMOAw4KABNIAG0AAauJ0GGHAQ9e1EfYZfDvTAL1g0gAbQwHc1wIDDgMOAgwbQABpAA2jgdhpgwEHUtxM1v5q++6uJ8+f80QAaOIMGGHAYcBhw0AAaQANoAA3cTgMMOIj6dqI+wy8HeuAXLBpAA2jguxpgwGHAYcBBA2gADaABNHA7DTDgIOrbiZpfTd/91cT5c/5oAA2cQQMMOAw4DDhoAA2gATSABm6nAQYcRH07UZ/hlwM98AsWDaABNPBdDTDgMOAw4KABNIAG0AAauJ0GGHAQ9e1Eza+m7/5q4vw5fzSABs6gAQYcBhwGHDSABtAAGkADt9MAAw6ivp2oz/DLgR74BYsG0AAa+K4GGHAYcBhw0AAaQANoAA3cTgMMOIj6dqLmV9N3fzVx/pw/GkADZ9AAAw4DDgMOGkADaAANoIHbaYABB1HfTtRn+OVAD/yCRQNoAA18VwMMOAw4DDhoAA2gATSABm6nAQYcRH07UfOr6bu/mjh/zh8NoIEzaIABhwGHAQcNoAE0gAbQwO00wICDqG8n6jP8cqAHfsGiATSABr6rAQYcBhwGHDSABtAAGkADt9PA8oDz73//+3YXz3T93ema8+f80QAaQANoYFUDu3MIAw5TO4MrGkADaAANoIHTa4ABB5GeXqSr0zo8ftmhATSABtCANPDyAacK9o9v1mNqIOHE/vXnLHVOdabyuyX2V4NoCb305wRNoAk08d/vyjt/d2gOmVn+ExV/8eEvPmgADaABNIAGTq8B/YiZDTUeY8BB1KcXtQsWnz9XowE0gAZ+UwMMOAwsDCxoAA2gATSABm6ngbcNOEzMvzkxc9+572gADaABNHBFDSz/J6orXhw981CiATSABtAAGvhNDTDg8GfM2/0Zk5fZb77MuO/cdzSABlwDDDgMOAw4aAANoAE0gAZupwEGHER9O1H7BI/PLzo0gAbQwG9qgAGHAYcBBw2gATSABtDA7TTAgIOobydqfq395q817jv3HQ2gAdfA8oCz+78/903wER0aQANoAA2gATTwjAZ255C3DTjVSP88c2Hk8mCgATSABtAAGvhdDZxqwOlC3G2u57P+XWFz77n3aAANoIHf1sDuDPHWv+B0Me421/Ovtv61673a/aHf335Zcv+5/2jgWhrY/U792oCjRsvKd7GN8OIo1vMc/3ZMffo14V/rYeJ+cb/QABpAA+fRQP9eP7o3Xx1wRs067n5dzGjdced+OnZ06MTP88BwL7gXaAANoIFraCB9l8/u3VsHnGrGP97IqNGEC5P1OvJTTJisuG53Y+LLei38azwk3CfuExpAA2jgehrY/d5964AzE9Co0YQLk011K5Y+4iqmtdtRTHi3yhWuNfZ6Dwz3jHuGBtAAGriGBuo7d+de3WrAWbnw2VDSY6uH2fPUx2q++NhrPGTcJ+4TGkADaODzGtj9Tv25AUeinB2UYrLKObKd39dH+cQ//8Bw5pw5GkADaOAaGtj9Tj3dgFNC84twv8d83XnfjNXefDgDNIAG0AAaQAOv00D6np+d7ykHnGq4LmR0MYr1uOPfjs0OndjrBM9ZcpZoAA2ggd/QQP9eP7rvbxtwjjYm/huC5D5zn9EAGkADaOAVGnjbgPOK5qiByNEAGkADaAANoIFPaGD5LzifaIY9ED0aQANoAA2gATTwCg0w4PAPgvkH0WgADaABNIAGbqcBBhxEfTtRv2Lypwa/INEAGkAD19bA8oCz+497EMa1hcH94/6hATSABtDAmTSwO4d8dcCpZvXRIWrt1mPyZYsn/1029aK9PrG/9ip7pl68r2/5fh7yey/pHokr23NevdY+bl+9x7vree/y370n9fmCvasG9AyV1TU6Jt9j8mU9V1i3ndPXnX/m9W7vXxtweqNay/ohC5NNMcde6fc9j9av3LvXOtq7x3v+HdfpmjvW13UOHevrd53Vp/Z5R/+p94S9Y29qMujcSQP9udFa1q9VmGyKOdb9ntfXnX/m9W7vXxlwUpPCZP2QhcmmmGOv8lf2S5xX7e910j4d62vPv6ufrrljfV1nsYq9+tzSvq/e4131Uu8Je9f+1GXIuYMG0jMjTNavU5hsijnW/cpTrvudd4W1rmO119MMOGo4XYAwWXHLJszjz/grtVc4z/Sg3JV9VjiqdxebrrljfV3Xvoq9+pxW9xXPrXzvqTD/eOzV/mh/7aO4+hEuO8Irrphq9BzFhfecnTyv4b72kPVY389jzu999LwU91r49x/iZhpIMWGyrpGEebz84ojnvnjCZDuuGsLd9hzFCleefK3FkfW4sJHd4VYNBpzJ/4pq5TBXOKObtYOv7LPC2dnzCtx0zR3r67quVezVZ7C6r3hl5fe+HVefCVPsWZtqO1a+r30/x90vzmjdcec+GvOeut9r+tp978N9cWQ95nt53HH8+w83I03o3idtCJMV96iWeJWnXPdH+c51jnCvm3zldL5w5cgmnmLd7nAr9+sDTjWsTzUk360usjD5sglT7FnrtVM/Vd85z+43y1/ZZ4Uz2+OKMb8v8vt1pHNZxXqtZ9dp36rp+MjX3orLCu91HH+FX/v1j9dN/Yx6ElfW68hPMWGy4rqdxZzX/Z7X1873mPxuiy9slOs4/u8NOKUPfaQXrWWli1rLl02YYrLidFtxYeI6pli3zkl5o7i4qnfEE9+t5zo+8r8+4KgxNS4r3G2KJcxznvFT7Y719TP7zXJX9lnhzPa4YmzlmhNnFXv1maR9aw/HR756Ubxs+oj3aqt9R3VH8YQLk001K5Y+4iqmtdtZzHnuV87RWnWdK7/bquV8930f/N8YbHSfpROtywqT9Zj8FEuY+LLidFvxwtJHsWQdK18f1R/Fd3niu/U9HB/5DDh2g/ohpcPsWF/3Gq9ar+yzwnlVP2eps3LNibOKvfo60761h3BZ7dvXM65y3mVTL77XKJ5wYbJeR/4sJk7Z4o24s5jXUB3HvKb7natYt53ntfH/+WL8tbOQTvy6hcl6TH6KJUx8WXG6rbgwcd0q1u0oT7xRXLXFkxW+YndzGHAuPOD0m93XK4K5OmflmhNnFXv1+aR9tUfFeryviytMVvnvtkf7jeIJFyabep/FdvkrtTrH1+7X3r6W323npZ7Bfm/QkU783guT9Zj8FEuY+LKd42v3xZdVrNuKCxO3YyneuUcc58vfzfnKgJMOQ43L6oLcpljCPOdZ3+uX7+uq3dfP7jfL73sdrWe17hLrZ5CuK3E61tepziuw2T4pVpjjI1+9eVzYq+xR7VncY+5Xb6N1x537aGx2Fr2mr7vf16PenKe9E6YY9jcGHtdA+VrLJh2kWMJ6buf42n3lCRvZzqu1uCkmzG3ne2zm7+Z9bcCpi6hm1XC3o4tUjuyI90rc91Kfqt/Xwt9l1UvaN2Hv6uMsdVeuOXEK88+nrif1or1TTJh6FVdWuKzwd1j1Mqq9Eh9x1H+PO/6q2Gr/o/0qX33JT1b7iCsrHPsbw8zoPrseyi+e7FGO5464wnvNtFY9j8nvVnXLKs8x4R3ztWo6tuLv5n11wFm5IDi//RL4hfs/eknUte8+0L9wXlwj7wQ0cE0NzN51K/d09324POCsbA7nmqLjvnHf0AAaQANo4G4aYMCZ/CPju91srocXGBpAA2gADfyKBhhwGHD+83/H4FdEz3XygkcDaAAN3F8DDDgMOAw4aAANoAE0gAZup4HlAWf3H/cwHd9/OuYec4/RABpAA2jgUxrYnUMYcBam9nSohfnnmzfY+0i9fqo39uFFhwbQABqYayC9oxPGOf49x91zYsB5YsBxAe4evOfu+GmfjvX1Tn24fx8qzoQzQQNo4FUaSO/nhL1qvzvV2T0nBpwXDTglot3Df0R4aY9V7JH9yOHFjgbQABp4nQZ4Xz9+lunsZtpkwGHAud0/LJsJntjjLxfOjrNDA89rIH1JO1a+f/zMR7g4ite6/I57XLErWb+mlb4ZcBhw/vMQrAgGzvMvOM6QM0QDv6uB9CUtTNb1IUxWsdm6YorLKq9swjx+Vn+3bwYcBhwGnAUNnPWBp6/f/aLk3l/z3qcvaWGyK/fWue4rV5is8LIJ8/hZ/d2+GXAWvtzSoa5irxbK6r6J9+peqHfNFyz3jfuGBr6ngfRudqx8X/u9UkxWscQXJm63yr2S1TWt9syAw4DDX3AWNLD6QMH73hcHZ8/ZX0ED6Ut6hDnufl2nr93XGQiTFX5lu3stDDgLX27pUFexV4tpdd/Ee3Uv1OMLBQ2gATSwp4H0bk6YzlUx2Y6ndXHFlxXvynb3WhhwXjTg7B78oyJL+3Ssrx/di7y9FxfnxXmhATRwpIH0fhYm6zWEyVasfF+L77jisuIo39dX8dO1zHpnwHliwJGYdg99dkOOYmkv7yPFj2oS56WMBtAAGvicBmbv7JVY3Svx5Pf7598F4sp27lXWfk0rPTPgLAw4KwcJ53MvB86as0YDaAAN/LcGNLzI3vF83jbg3PGwuKb/fkA4D84DDaABNIAG7qKB5b/g3OWCgzERQwAAB0JJREFUuQ4eXjSABtAAGkAD99cAAw7/iYr/mTgaQANoAA2ggdtpgAEHUd9O1Pwyu/8vM+4x9xgNoIEjDSwPOLv/uOdoY+KIEw2gATSABtAAGljVwO4cwoDDX3D4Cw4aQANoAA2ggdNrgAEHkZ5epKvTOjx+2aEBNIAG0IA0wIDDgMOAgwbQABpAA2jgdhpgwEHUtxO1pncsv+TQABpAA7+rgY8OOLVZ+pQAE67miP09N87s75mgF56j9K7gWeFZ6bpAE/fWRN1f3WP5K5Z/ZMxffPiLDxpAA2gADaCB02tAP3pXhpviPDXg9Cla6yosv1ti9560+/3WmvvOfZcWZNEEmpAWZNEEmpAWZEsT+hQmf8U+NeCsbADnn5vDWXAWaAANoAE0gAYe0wADjk17iOgxEXFunBsaQANoAA2cTQMMOAw4W3/CO5uA6YeXKhpAA2gADSQNMOAw4DDgoAE0gAbQABq4nQYYcBD17USdJnkwfuGhATSABn5LA28bcBDSbwmJ+839RgNoAA2ggStrYPl/RXXli6R3HlI0gAbQABpAA7+lAQYc/pMW/0kLDaABNIAG0MDtNMCAg6hvJ2p+pf3WrzTuN/cbDaCBpIHlAWf3H/ekzcAQIRpAA2gADaABNPCIBnbnkK8MOKnJhD1yAJ/OuWrfnz6nT+xX9+Ib9+Mbe37iPNmDLyE0gAbOpIHddy0DzpP/iWr3wM8kljv18s378M2973QPuRa+TNEAGphpYPdd+7UBpzfa17OLJMZD0DXwTf18c+9+Dqx5NtAAGrirBnbftacdcOpCdi9G/J4r3G+6MHFlO0e4+B4vP+Gek+LKU0y21/a1OGXl78ZTnvfS49pLtu8n/BN5vnf3vY/ei1+f5414zlddz5PvsVRLPCxfNmgADaCB12hg9137tQGnbrg3u+IfiaRqeB3xZ1iP+dr93u9K7RHH65bva+V023k9p8c937nuF2e07rhzPx3zaxn5qSfveearpmrIdjyti9v54mFf81LjHDlHNIAGSgO779rTDTjpAhKWBD/iJVyYrOr52v3R4XZO4jnH/bSnsG6P8lI89eLYKMc53of4sh6TvxsTX1Z1dm3Kn2E7Mee6rx4TphiWFzMaQANo4DUa2H3XfnXAqZuuhrt1QSjmWPJHvIQLk1U9X7tf8b5exTzP/bSnsG6P8lL8qL9RjvIq3j/qS7jWbkcx4d0qV7jWO7ZyO3+G7cSc6772S5hi2Ne82DhHzhENoIHddy0DTvti9AN0vx6uvl7FPM99PbAJU0w2cRxzXzllEy5M1vnyZzFxVH/ELdxj7nuN7ve8Hk/rVHuG7cSc6776SJhiWF7KaAANoIHXaGD3Xfv1AadufDWtxmVdEAnzuPwRL+HCZFONWSzxR9isTsV6XHXcJo5j7q/mjXIqfxbz+vJnfMVklXNkd/iJO8N2Ys51X/0nTDHsa15snCPniAbQwO679nQDTonYL8L9I4GPuB2vtTBZ1fa1+72vxB9hvY5qCZdVfrLFcZ77qpfyeuwoT3FZrylM9lMx32fkp56K6/jIF09xWe01W1esx5WH5YWMBtAAGnidBnbftacYcEoAvfFHvjh6DReW6onTrbjCRz2JJ+v8EeYc90d84W6VV1Z+ijvm/iivOIr1uo5/O+bXkvzen3N0HY6VL1y53YovXGvPle8x/Ne90DhLzhINoAFpIL2LFUv2KwNOauSXsLpJ/lm59t0bu1ITDi8ONIAG0AAauIoGdr8HlwecqxwAffKwogE0gAbQABpAAww4T/7/ouIh4iFCA2gADaABNHA+DTDgMOD8+b8fw4N6vgeVe8I9QQNoAA3saYABhwGHAQcNoAE0gAbQwO00wICDqG8nan7l7P3K4bw4LzSABu6oAQYcBhwGHDSABtAAGkADt9MAAw6ivp2o7/hLhGviFzYaQANoYE8DywPO7v/+nBuxdyM4L84LDaABNIAG0MBYA7tzCAMOf8HhLzhoAA2gATSABk6vAQYcRHp6kfILZfwLhbPhbNAAGkADWQMvH3CqYP/o8DuudcXld0vs73nWGXEunAvPyj8a4Hn45yxcF5wL5+J6+OXvjnoWjj78J6qFQzo6ROLHQuOMOCM0gAbQABp4RgMa6FZrMOAw4BxOwatigsfLCw2gATSABt6lAQYcBhYGFjSABtAAGkADt9PA2wacd01k1GXaRwNoAA2gATSABl6tgeX/RPXqjamHmNEAGkADaAANoIF3aYABhz9j3u7PmO96WKjLixgNoAE0cB0NMOAw4DDgoAE0gAbQABq4nQYYcBD17UTNL6zr/MLiXnGv0AAaeJcGGHAYcBhw0AAaQANoAA3cTgMMOIj6dqJ+168B6vJLEw2gATRwHQ0w4DDgMOCgATSABtAAGridBhhwEPXtRM0vrOv8wuJeca/QABp4lwYYcBhwGHDQABpAA2gADdxOAww4iPp2on7XrwHq8ksTDaABNHAdDfw/zW0CCUe5OVIAAAAASUVORK5CYII=)"
      ]
    },
    {
      "cell_type": "code",
      "metadata": {
        "colab": {
          "base_uri": "https://localhost:8080/"
        },
        "id": "in-ObfnUHFZN",
        "outputId": "ef341648-379e-4c75-bda4-03819d559816"
      },
      "source": [
        "!nvidia-smi"
      ],
      "execution_count": null,
      "outputs": [
        {
          "output_type": "stream",
          "text": [
            "NVIDIA-SMI has failed because it couldn't communicate with the NVIDIA driver. Make sure that the latest NVIDIA driver is installed and running.\n",
            "\n"
          ],
          "name": "stdout"
        }
      ]
    },
    {
      "cell_type": "markdown",
      "metadata": {
        "id": "_cU3xoPAgUt5"
      },
      "source": [
        "파이썬 버전확인"
      ]
    },
    {
      "cell_type": "code",
      "metadata": {
        "colab": {
          "base_uri": "https://localhost:8080/"
        },
        "id": "5uTQl0YWgJxW",
        "outputId": "43765d45-86a4-4a26-adb0-acf65788f755"
      },
      "source": [
        "import sys\n",
        "print(sys.version)"
      ],
      "execution_count": null,
      "outputs": [
        {
          "output_type": "stream",
          "text": [
            "3.7.10 (default, Feb 20 2021, 21:17:23) \n",
            "[GCC 7.5.0]\n"
          ],
          "name": "stdout"
        }
      ]
    },
    {
      "cell_type": "markdown",
      "metadata": {
        "id": "iB9yhp6ekgOA"
      },
      "source": [
        "텐서플로와 케라스 import"
      ]
    },
    {
      "cell_type": "code",
      "metadata": {
        "colab": {
          "base_uri": "https://localhost:8080/"
        },
        "id": "MYdToMYPdCt9",
        "outputId": "bf4ddeb4-f4ad-459b-9b07-700ae56b83ac"
      },
      "source": [
        "import tensorflow as tf\n",
        "from tensorflow.keras.preprocessing.image import ImageDataGenerator, img_to_array, load_img\n",
        "\n",
        "print(tf.__version__)\n"
      ],
      "execution_count": null,
      "outputs": [
        {
          "output_type": "stream",
          "text": [
            "2.4.1\n"
          ],
          "name": "stdout"
        }
      ]
    },
    {
      "cell_type": "markdown",
      "metadata": {
        "id": "DZ0MwZ9RlqY8"
      },
      "source": [
        "data를 불러 옵니다.\n",
        "\n",
        "https://bit.ly/3aQkYwG\n",
        "\n",
        "혹은 \n",
        "\n",
        "https://hidden-loca.tistory.com/9?category=909779\n",
        "\n",
        "zip파일 다운받은 후 좌측 파일 탭, 상단 세션저장소에 업로드.\n",
        "이후 아래 셀을 실행하여 압축을 해제해 줍니다.\n"
      ]
    },
    {
      "cell_type": "code",
      "metadata": {
        "colab": {
          "base_uri": "https://localhost:8080/"
        },
        "id": "_f3I1X4rk1HL",
        "outputId": "5f003ff8-e8fc-468d-da5c-d139c5e439f3"
      },
      "source": [
        "!mkdir ex && cd ex && unzip ../ex.zip\n",
        "!cd .."
      ],
      "execution_count": null,
      "outputs": [
        {
          "output_type": "stream",
          "text": [
            "Archive:  ../ex.zip\n",
            "  inflating: a.png                   \n",
            "  inflating: b.png                   \n",
            "  inflating: c.png                   \n",
            "  inflating: d.png                   \n",
            "  inflating: e.png                   \n",
            "  inflating: f.png                   \n",
            "  inflating: g.png                   \n",
            "  inflating: h.png                   \n",
            "  inflating: i.png                   \n",
            "  inflating: j.png                   \n",
            "  inflating: k.png                   \n",
            "  inflating: l.png                   \n",
            "  inflating: m.png                   \n",
            "  inflating: n.png                   \n",
            "  inflating: o.png                   \n",
            "  inflating: p.png                   \n",
            "  inflating: q.png                   \n",
            "  inflating: r.png                   \n",
            "  inflating: s.png                   \n",
            "  inflating: t.png                   \n",
            "  inflating: u.png                   \n",
            "  inflating: v.png                   \n",
            "  inflating: w.png                   \n",
            "  inflating: x.png                   \n",
            "  inflating: y.png                   \n",
            "  inflating: z.png                   \n",
            "  inflating: zz.png                  \n"
          ],
          "name": "stdout"
        }
      ]
    },
    {
      "cell_type": "markdown",
      "metadata": {
        "id": "pqcCYFVmWDh8"
      },
      "source": [
        "## 2. 이미지 부풀리기, 데이터 준비.\n",
        "\n",
        "학습에 사용될 이미지를 준비합니다. \n",
        "\n",
        "대부분의 경우 미리 준비된 이미지를 사용하지만, 잘 만들어진 이미지는 찾기 어렵습니다. \n",
        "\n",
        "kaggle에 올려진 이미지들 역시 대부분이 소수의 이미지만을 가지고 부풀려진 경우가 많습니다."
      ]
    },
    {
      "cell_type": "code",
      "metadata": {
        "id": "5gvSrbW7pcRl"
      },
      "source": [
        "import os"
      ],
      "execution_count": null,
      "outputs": []
    },
    {
      "cell_type": "code",
      "metadata": {
        "colab": {
          "base_uri": "https://localhost:8080/"
        },
        "id": "-x679wsFm1_N",
        "outputId": "8f11f316-3ad8-4941-c22c-70bf4784a269"
      },
      "source": [
        "os.chdir(\"/content/ex\")\n",
        "path  = os.getcwd()\n",
        "dir = os.listdir()\n",
        "print(path)\n",
        "print(dir)\n",
        "# zz == blink, 공백이며 순서를 z 다음으로 오도록 하였습니다."
      ],
      "execution_count": null,
      "outputs": [
        {
          "output_type": "stream",
          "text": [
            "/content/ex\n",
            "['o.png', 'm.png', 'g.png', 'l.png', 'f.png', 'u.png', 'y.png', 'zz.png', 't.png', 'j.png', 'k.png', 'c.png', 's.png', 'n.png', 'p.png', 'h.png', 'i.png', 'q.png', 'w.png', 'e.png', 'b.png', 'x.png', 'z.png', 'a.png', 'r.png', 'd.png', 'v.png']\n"
          ],
          "name": "stdout"
        }
      ]
    },
    {
      "cell_type": "markdown",
      "metadata": {
        "id": "lzuh6l8XWyCY"
      },
      "source": [
        "dir의 경우 추후 predict 결과를 정리할 때 재사용 됩니다. "
      ]
    },
    {
      "cell_type": "markdown",
      "metadata": {
        "id": "f8k7m6gqlt6h"
      },
      "source": [
        "이미지 데이터를 부풀립니다.\n",
        "\n",
        "Keras ImageDataGenerator를 이용하며 자세한 설명은 [케라스문서](https://keras.io/api/preprocessing/image/#imagedatagenerator-class), [블로그](https://hidden-loca.tistory.com/18)를 참고해 주세요."
      ]
    },
    {
      "cell_type": "code",
      "metadata": {
        "id": "jhLZkmUzp5in"
      },
      "source": [
        "def createFolder(directory):\n",
        "      if not os.path.exists(directory):\n",
        "          os.makedirs(directory)\n",
        "\n",
        "createFolder('../data')"
      ],
      "execution_count": null,
      "outputs": []
    },
    {
      "cell_type": "code",
      "metadata": {
        "colab": {
          "base_uri": "https://localhost:8080/"
        },
        "id": "Dg6ZP1HOdPy_",
        "outputId": "0d77bf00-3a3d-42dc-8215-7395cc86616d"
      },
      "source": [
        "datagen = ImageDataGenerator(\n",
        "        rotation_range=10,\n",
        "        width_shift_range=0.1,\n",
        "        height_shift_range=0.1,\n",
        "        shear_range=0.05,\n",
        "        zoom_range=0.01,\n",
        "        fill_mode='constant',\n",
        "        cval=255\n",
        "        )\n",
        "\n",
        "def all_char_gen():\n",
        "    for j in dir:\n",
        "        alpha = j.split('.')[0] #파일 에서 확장자만 제거합니다.\n",
        "        createFolder('../data/'+alpha)\n",
        "        # print(path +'/' +j)\n",
        "        img = load_img(path +'/'+j)  # PIL 이미지\n",
        "        x = img_to_array(img)\n",
        "        x = x.reshape((1,) + x.shape)\n",
        "        if j == 'zz.png':\n",
        "          #흰 이미지가 들어올 경우 검은색으로 복사됩니다. 따로 복사합니다.\n",
        "          import shutil\n",
        "          for _ in range(10):\n",
        "            print(_,j,'../data/'+alpha)\n",
        "            shutil.copy(j,'../data/'+alpha+'/'+alpha+str(_)+'.jpg')\n",
        "        else:  \n",
        "          i = 0\n",
        "          for batch in datagen.flow(x, batch_size=1,\n",
        "                                    save_to_dir='../data/'+alpha, save_prefix=alpha, save_format='jpg'):\n",
        "              i += 1\n",
        "              if i > 20:\n",
        "                  break  # 이미지 20장을 생성하고 마칩니다\n",
        "\n",
        "all_char_gen()"
      ],
      "execution_count": null,
      "outputs": [
        {
          "output_type": "stream",
          "text": [
            "0 zz.png ../data/zz\n",
            "1 zz.png ../data/zz\n",
            "2 zz.png ../data/zz\n",
            "3 zz.png ../data/zz\n",
            "4 zz.png ../data/zz\n",
            "5 zz.png ../data/zz\n",
            "6 zz.png ../data/zz\n",
            "7 zz.png ../data/zz\n",
            "8 zz.png ../data/zz\n",
            "9 zz.png ../data/zz\n"
          ],
          "name": "stdout"
        }
      ]
    },
    {
      "cell_type": "markdown",
      "metadata": {
        "id": "Y2by7145bk39"
      },
      "source": [
        "데이터를 부풀린후 generator에 넣어 학습 준비를 마칩니다."
      ]
    },
    {
      "cell_type": "code",
      "metadata": {
        "colab": {
          "base_uri": "https://localhost:8080/"
        },
        "id": "-oGiYwB_tcsJ",
        "outputId": "5b49b4e7-4ac5-47ec-e982-c19fc0387397"
      },
      "source": [
        "os.chdir(\"/content\")\n",
        "path  = os.getcwd()\n",
        "print(path)\n",
        "\n",
        "def data_ready(size):\n",
        "    images_dir = './data'\n",
        "\n",
        "    datagen = ImageDataGenerator(rotation_range=10,\n",
        "                                 shear_range=5,\n",
        "                                 validation_split=0.1,\n",
        "                                 ) #20%를 검증모델로 사용.\n",
        "\n",
        "    train_generator = datagen.flow_from_directory(images_dir,\n",
        "                                                  target_size=(size,size),\n",
        "                                                  subset='training')\n",
        "\n",
        "    val_generator = datagen.flow_from_directory(images_dir,\n",
        "                                                target_size=(size,size),\n",
        "                                                subset='validation')\n",
        "\n",
        "    return train_generator, val_generator"
      ],
      "execution_count": null,
      "outputs": [
        {
          "output_type": "stream",
          "text": [
            "/content\n"
          ],
          "name": "stdout"
        }
      ]
    },
    {
      "cell_type": "markdown",
      "metadata": {
        "id": "C_Iu9yFjhHRA"
      },
      "source": [
        ""
      ]
    },
    {
      "cell_type": "markdown",
      "metadata": {
        "id": "e4nnIAj_hIfd"
      },
      "source": [
        "## 3. 모델 빌드\n",
        "\n",
        "모델을 만들어 저장합니다."
      ]
    },
    {
      "cell_type": "code",
      "metadata": {
        "id": "ru_0X2pjqvp3"
      },
      "source": [
        "from tensorflow.keras import backend as K\n",
        "from tensorflow.keras import layers as L\n",
        "from tensorflow.keras.models import Model\n",
        "from tensorflow.keras.regularizers import l2\n",
        "from tensorflow.keras.callbacks import ModelCheckpoint,ReduceLROnPlateau,EarlyStopping"
      ],
      "execution_count": null,
      "outputs": []
    },
    {
      "cell_type": "code",
      "metadata": {
        "id": "vyj7Fk1exf1B"
      },
      "source": [
        "def Make_model(train,val, class_count, size = 28):\n",
        "\n",
        "    K.clear_session()\n",
        "\n",
        "    model_ckpt = ModelCheckpoint('ckpt.h5',save_best_only=True)\n",
        "    reduce_lr = ReduceLROnPlateau(patience=8,verbose=1)\n",
        "    early_stop = EarlyStopping(patience=20,verbose=2)\n",
        "\n",
        "    entry = L.Input(shape=(size,size,3))\n",
        "    x = L.SeparableConv2D(64,(3,3),activation='relu',padding ='same')(entry)\n",
        "    x = L.MaxPooling2D((2,2))(x)\n",
        "\n",
        "    x = L.SeparableConv2D(128,(3,3),activation='relu',padding ='same')(x)\n",
        "    x = L.MaxPooling2D((2,2))(x)\n",
        "\n",
        "    x = L.SeparableConv2D(256,(2,2),activation='relu',padding ='same')(x)\n",
        "    x = L.GlobalMaxPooling2D()(x)\n",
        "\n",
        "    x = L.Dense(256)(x)\n",
        "    x = L.LeakyReLU()(x)\n",
        "    x = L.Dense(64,kernel_regularizer=l2(2e-4))(x)\n",
        "    x = L.LeakyReLU()(x)\n",
        "    x = L.Dense(class_count,activation='softmax')(x)\n",
        "\n",
        "    model = Model(entry,x)\n",
        "    model.compile(loss='categorical_crossentropy',optimizer='adam',metrics=['accuracy'])\n",
        "\n",
        "    history = model.fit(train,validation_data=val,epochs=999,\n",
        "                                  callbacks=[model_ckpt,reduce_lr,early_stop],verbose=1)\n",
        "    return history"
      ],
      "execution_count": null,
      "outputs": []
    },
    {
      "cell_type": "markdown",
      "metadata": {
        "id": "f87eMTa7hWfJ"
      },
      "source": [
        "###3.1 모델을 불러오기, 정확도 확인\n",
        "\n",
        "\n"
      ]
    },
    {
      "cell_type": "code",
      "metadata": {
        "id": "9y0QXE66_40U"
      },
      "source": [
        "def load_model():\n",
        "    from keras.models import load_model\n",
        "    model = load_model('ckpt.h5')\n",
        "    return model\n",
        "\n",
        "def acc_chk(model, val):\n",
        "    acc = model.evaluate_generator(val)[1]\n",
        "    print('model accuracy: {}'.format(round(acc,4)))"
      ],
      "execution_count": null,
      "outputs": []
    },
    {
      "cell_type": "markdown",
      "metadata": {
        "id": "OsUtda2nhvJO"
      },
      "source": [
        "##4. 학습 시작"
      ]
    },
    {
      "cell_type": "markdown",
      "metadata": {
        "id": "0k-klTelh1j3"
      },
      "source": [
        "이미지를 불러옵니다. data_ready에 사이즈를 넘겨 줍니다."
      ]
    },
    {
      "cell_type": "code",
      "metadata": {
        "colab": {
          "base_uri": "https://localhost:8080/"
        },
        "id": "9JD1pfRFAADy",
        "outputId": "300eb017-cc80-4b58-b9db-fed07af375af"
      },
      "source": [
        "img_size = 28\n",
        "train_generator, val_generator = data_ready(img_size)"
      ],
      "execution_count": null,
      "outputs": [
        {
          "output_type": "stream",
          "text": [
            "Found 502 images belonging to 27 classes.\n",
            "Found 53 images belonging to 27 classes.\n"
          ],
          "name": "stdout"
        }
      ]
    },
    {
      "cell_type": "markdown",
      "metadata": {
        "id": "pWbzXed6iFcz"
      },
      "source": [
        "학습을 시작합니다. \n",
        "\n",
        "train, valid, class_size, img_size를 전달해줍니다."
      ]
    },
    {
      "cell_type": "code",
      "metadata": {
        "colab": {
          "base_uri": "https://localhost:8080/"
        },
        "id": "S95pEMkL_6Ar",
        "outputId": "66ee2b57-9177-475e-ec83-32a95d56c73b"
      },
      "source": [
        "hist = Make_model(train_generator,val_generator,len(dir),img_size)"
      ],
      "execution_count": null,
      "outputs": [
        {
          "output_type": "stream",
          "text": [
            "Epoch 1/999\n",
            "16/16 [==============================] - 3s 116ms/step - loss: 3.3769 - accuracy: 0.0482 - val_loss: 3.3047 - val_accuracy: 0.0755\n",
            "Epoch 2/999\n",
            "16/16 [==============================] - 1s 78ms/step - loss: 3.3062 - accuracy: 0.0554 - val_loss: 3.2634 - val_accuracy: 0.0755\n",
            "Epoch 3/999\n",
            "16/16 [==============================] - 1s 79ms/step - loss: 3.2505 - accuracy: 0.0930 - val_loss: 3.1403 - val_accuracy: 0.0755\n",
            "Epoch 4/999\n",
            "16/16 [==============================] - 1s 80ms/step - loss: 3.0630 - accuracy: 0.1159 - val_loss: 2.7173 - val_accuracy: 0.2264\n",
            "Epoch 5/999\n",
            "16/16 [==============================] - 1s 84ms/step - loss: 2.5833 - accuracy: 0.2682 - val_loss: 2.0619 - val_accuracy: 0.3774\n",
            "Epoch 6/999\n",
            "16/16 [==============================] - 1s 79ms/step - loss: 1.8971 - accuracy: 0.3669 - val_loss: 1.2096 - val_accuracy: 0.6226\n",
            "Epoch 7/999\n",
            "16/16 [==============================] - 1s 82ms/step - loss: 1.1444 - accuracy: 0.6319 - val_loss: 0.8596 - val_accuracy: 0.6981\n",
            "Epoch 8/999\n",
            "16/16 [==============================] - 1s 81ms/step - loss: 0.6850 - accuracy: 0.7844 - val_loss: 0.3745 - val_accuracy: 0.9057\n",
            "Epoch 9/999\n",
            "16/16 [==============================] - 1s 80ms/step - loss: 0.3418 - accuracy: 0.9152 - val_loss: 0.4925 - val_accuracy: 0.8491\n",
            "Epoch 10/999\n",
            "16/16 [==============================] - 1s 79ms/step - loss: 0.3373 - accuracy: 0.9011 - val_loss: 0.3260 - val_accuracy: 0.8679\n",
            "Epoch 11/999\n",
            "16/16 [==============================] - 1s 79ms/step - loss: 0.2112 - accuracy: 0.9284 - val_loss: 0.1636 - val_accuracy: 0.9811\n",
            "Epoch 12/999\n",
            "16/16 [==============================] - 1s 80ms/step - loss: 0.1589 - accuracy: 0.9671 - val_loss: 0.2796 - val_accuracy: 0.9057\n",
            "Epoch 13/999\n",
            "16/16 [==============================] - 1s 77ms/step - loss: 0.0932 - accuracy: 0.9860 - val_loss: 0.0722 - val_accuracy: 0.9811\n",
            "Epoch 14/999\n",
            "16/16 [==============================] - 1s 79ms/step - loss: 0.1048 - accuracy: 0.9671 - val_loss: 0.2567 - val_accuracy: 0.9434\n",
            "Epoch 15/999\n",
            "16/16 [==============================] - 1s 77ms/step - loss: 0.1106 - accuracy: 0.9781 - val_loss: 0.1168 - val_accuracy: 0.9623\n",
            "Epoch 16/999\n",
            "16/16 [==============================] - 1s 77ms/step - loss: 0.0531 - accuracy: 0.9995 - val_loss: 0.1035 - val_accuracy: 0.9434\n",
            "Epoch 17/999\n",
            "16/16 [==============================] - 1s 78ms/step - loss: 0.0503 - accuracy: 0.9918 - val_loss: 0.1899 - val_accuracy: 0.9434\n",
            "Epoch 18/999\n",
            "16/16 [==============================] - 1s 79ms/step - loss: 0.0373 - accuracy: 0.9976 - val_loss: 0.1848 - val_accuracy: 0.9245\n",
            "Epoch 19/999\n",
            "16/16 [==============================] - 1s 79ms/step - loss: 0.0422 - accuracy: 0.9987 - val_loss: 0.1099 - val_accuracy: 0.9623\n",
            "Epoch 20/999\n",
            "16/16 [==============================] - 1s 78ms/step - loss: 0.0476 - accuracy: 0.9942 - val_loss: 0.2217 - val_accuracy: 0.9623\n",
            "Epoch 21/999\n",
            "16/16 [==============================] - 1s 81ms/step - loss: 0.0372 - accuracy: 0.9936 - val_loss: 0.1517 - val_accuracy: 0.9434\n",
            "\n",
            "Epoch 00021: ReduceLROnPlateau reducing learning rate to 0.00010000000474974513.\n",
            "Epoch 22/999\n",
            "16/16 [==============================] - 1s 80ms/step - loss: 0.0310 - accuracy: 0.9989 - val_loss: 0.0345 - val_accuracy: 1.0000\n",
            "Epoch 23/999\n",
            "16/16 [==============================] - 1s 80ms/step - loss: 0.0260 - accuracy: 1.0000 - val_loss: 0.0939 - val_accuracy: 0.9811\n",
            "Epoch 24/999\n",
            "16/16 [==============================] - 1s 80ms/step - loss: 0.0260 - accuracy: 1.0000 - val_loss: 0.0313 - val_accuracy: 1.0000\n",
            "Epoch 25/999\n",
            "16/16 [==============================] - 1s 79ms/step - loss: 0.0241 - accuracy: 1.0000 - val_loss: 0.0422 - val_accuracy: 1.0000\n",
            "Epoch 26/999\n",
            "16/16 [==============================] - 1s 79ms/step - loss: 0.0255 - accuracy: 0.9985 - val_loss: 0.0688 - val_accuracy: 0.9811\n",
            "Epoch 27/999\n",
            "16/16 [==============================] - 1s 80ms/step - loss: 0.0243 - accuracy: 1.0000 - val_loss: 0.0450 - val_accuracy: 0.9811\n",
            "Epoch 28/999\n",
            "16/16 [==============================] - 1s 79ms/step - loss: 0.0244 - accuracy: 1.0000 - val_loss: 0.0471 - val_accuracy: 0.9811\n",
            "Epoch 29/999\n",
            "16/16 [==============================] - 1s 78ms/step - loss: 0.0246 - accuracy: 1.0000 - val_loss: 0.0559 - val_accuracy: 0.9811\n",
            "Epoch 30/999\n",
            "16/16 [==============================] - 1s 79ms/step - loss: 0.0239 - accuracy: 1.0000 - val_loss: 0.0709 - val_accuracy: 0.9811\n",
            "Epoch 31/999\n",
            "16/16 [==============================] - 1s 78ms/step - loss: 0.0249 - accuracy: 1.0000 - val_loss: 0.0934 - val_accuracy: 0.9811\n",
            "Epoch 32/999\n",
            "16/16 [==============================] - 1s 78ms/step - loss: 0.0237 - accuracy: 1.0000 - val_loss: 0.0265 - val_accuracy: 1.0000\n",
            "Epoch 33/999\n",
            "16/16 [==============================] - 1s 80ms/step - loss: 0.0246 - accuracy: 1.0000 - val_loss: 0.0307 - val_accuracy: 1.0000\n",
            "Epoch 34/999\n",
            "16/16 [==============================] - 1s 79ms/step - loss: 0.0239 - accuracy: 1.0000 - val_loss: 0.0265 - val_accuracy: 1.0000\n",
            "Epoch 35/999\n",
            "16/16 [==============================] - 1s 81ms/step - loss: 0.0231 - accuracy: 1.0000 - val_loss: 0.0286 - val_accuracy: 1.0000\n",
            "Epoch 36/999\n",
            "16/16 [==============================] - 1s 82ms/step - loss: 0.0254 - accuracy: 1.0000 - val_loss: 0.0268 - val_accuracy: 1.0000\n",
            "Epoch 37/999\n",
            "16/16 [==============================] - 1s 80ms/step - loss: 0.0231 - accuracy: 1.0000 - val_loss: 0.0463 - val_accuracy: 0.9811\n",
            "Epoch 38/999\n",
            "16/16 [==============================] - 1s 80ms/step - loss: 0.0231 - accuracy: 1.0000 - val_loss: 0.0252 - val_accuracy: 1.0000\n",
            "Epoch 39/999\n",
            "16/16 [==============================] - 1s 78ms/step - loss: 0.0229 - accuracy: 1.0000 - val_loss: 0.0403 - val_accuracy: 1.0000\n",
            "Epoch 40/999\n",
            "16/16 [==============================] - 1s 79ms/step - loss: 0.0233 - accuracy: 1.0000 - val_loss: 0.0723 - val_accuracy: 0.9811\n",
            "Epoch 41/999\n",
            "16/16 [==============================] - 1s 79ms/step - loss: 0.0240 - accuracy: 1.0000 - val_loss: 0.0396 - val_accuracy: 1.0000\n",
            "Epoch 42/999\n",
            "16/16 [==============================] - 1s 80ms/step - loss: 0.0230 - accuracy: 1.0000 - val_loss: 0.0442 - val_accuracy: 0.9811\n",
            "Epoch 43/999\n",
            "16/16 [==============================] - 1s 79ms/step - loss: 0.0260 - accuracy: 1.0000 - val_loss: 0.0469 - val_accuracy: 1.0000\n",
            "Epoch 44/999\n",
            "16/16 [==============================] - 1s 81ms/step - loss: 0.0229 - accuracy: 1.0000 - val_loss: 0.0250 - val_accuracy: 1.0000\n",
            "Epoch 45/999\n",
            "16/16 [==============================] - 1s 81ms/step - loss: 0.0239 - accuracy: 1.0000 - val_loss: 0.0503 - val_accuracy: 1.0000\n",
            "Epoch 46/999\n",
            "16/16 [==============================] - 1s 81ms/step - loss: 0.0257 - accuracy: 1.0000 - val_loss: 0.0377 - val_accuracy: 1.0000\n",
            "Epoch 47/999\n",
            "16/16 [==============================] - 1s 80ms/step - loss: 0.0229 - accuracy: 1.0000 - val_loss: 0.0876 - val_accuracy: 0.9811\n",
            "Epoch 48/999\n",
            "16/16 [==============================] - 1s 79ms/step - loss: 0.0231 - accuracy: 1.0000 - val_loss: 0.0259 - val_accuracy: 1.0000\n",
            "Epoch 49/999\n",
            "16/16 [==============================] - 1s 78ms/step - loss: 0.0234 - accuracy: 1.0000 - val_loss: 0.0352 - val_accuracy: 1.0000\n",
            "Epoch 50/999\n",
            "16/16 [==============================] - 1s 82ms/step - loss: 0.0231 - accuracy: 1.0000 - val_loss: 0.0915 - val_accuracy: 0.9811\n",
            "Epoch 51/999\n",
            "16/16 [==============================] - 1s 81ms/step - loss: 0.0232 - accuracy: 1.0000 - val_loss: 0.0248 - val_accuracy: 1.0000\n",
            "Epoch 52/999\n",
            "16/16 [==============================] - 1s 80ms/step - loss: 0.0238 - accuracy: 1.0000 - val_loss: 0.0311 - val_accuracy: 1.0000\n",
            "Epoch 53/999\n",
            "16/16 [==============================] - 1s 79ms/step - loss: 0.0231 - accuracy: 1.0000 - val_loss: 0.0665 - val_accuracy: 0.9811\n",
            "Epoch 54/999\n",
            "16/16 [==============================] - 1s 78ms/step - loss: 0.0226 - accuracy: 1.0000 - val_loss: 0.0261 - val_accuracy: 1.0000\n",
            "Epoch 55/999\n",
            "16/16 [==============================] - 1s 80ms/step - loss: 0.0234 - accuracy: 1.0000 - val_loss: 0.0269 - val_accuracy: 1.0000\n",
            "Epoch 56/999\n",
            "16/16 [==============================] - 1s 79ms/step - loss: 0.0229 - accuracy: 1.0000 - val_loss: 0.0689 - val_accuracy: 0.9811\n",
            "Epoch 57/999\n",
            "16/16 [==============================] - 1s 77ms/step - loss: 0.0225 - accuracy: 1.0000 - val_loss: 0.0368 - val_accuracy: 1.0000\n",
            "Epoch 58/999\n",
            "16/16 [==============================] - 1s 79ms/step - loss: 0.0230 - accuracy: 1.0000 - val_loss: 0.0371 - val_accuracy: 1.0000\n",
            "Epoch 59/999\n",
            "16/16 [==============================] - 1s 80ms/step - loss: 0.0227 - accuracy: 1.0000 - val_loss: 0.0280 - val_accuracy: 1.0000\n",
            "\n",
            "Epoch 00059: ReduceLROnPlateau reducing learning rate to 1.0000000474974514e-05.\n",
            "Epoch 60/999\n",
            "16/16 [==============================] - 1s 80ms/step - loss: 0.0233 - accuracy: 1.0000 - val_loss: 0.0351 - val_accuracy: 1.0000\n",
            "Epoch 61/999\n",
            "16/16 [==============================] - 1s 78ms/step - loss: 0.0226 - accuracy: 1.0000 - val_loss: 0.0357 - val_accuracy: 1.0000\n",
            "Epoch 62/999\n",
            "16/16 [==============================] - 1s 80ms/step - loss: 0.0230 - accuracy: 1.0000 - val_loss: 0.0401 - val_accuracy: 1.0000\n",
            "Epoch 63/999\n",
            "16/16 [==============================] - 1s 81ms/step - loss: 0.0223 - accuracy: 1.0000 - val_loss: 0.0316 - val_accuracy: 1.0000\n",
            "Epoch 64/999\n",
            "16/16 [==============================] - 1s 82ms/step - loss: 0.0234 - accuracy: 1.0000 - val_loss: 0.0322 - val_accuracy: 1.0000\n",
            "Epoch 65/999\n",
            "16/16 [==============================] - 1s 81ms/step - loss: 0.0223 - accuracy: 1.0000 - val_loss: 0.1240 - val_accuracy: 0.9811\n",
            "Epoch 66/999\n",
            "16/16 [==============================] - 1s 82ms/step - loss: 0.0235 - accuracy: 1.0000 - val_loss: 0.0469 - val_accuracy: 0.9811\n",
            "Epoch 67/999\n",
            "16/16 [==============================] - 1s 80ms/step - loss: 0.0222 - accuracy: 1.0000 - val_loss: 0.0356 - val_accuracy: 1.0000\n",
            "\n",
            "Epoch 00067: ReduceLROnPlateau reducing learning rate to 1.0000000656873453e-06.\n",
            "Epoch 68/999\n",
            "16/16 [==============================] - 1s 80ms/step - loss: 0.0225 - accuracy: 1.0000 - val_loss: 0.0237 - val_accuracy: 1.0000\n",
            "Epoch 69/999\n",
            "16/16 [==============================] - 1s 81ms/step - loss: 0.0226 - accuracy: 1.0000 - val_loss: 0.0342 - val_accuracy: 1.0000\n",
            "Epoch 70/999\n",
            "16/16 [==============================] - 1s 80ms/step - loss: 0.0234 - accuracy: 1.0000 - val_loss: 0.0299 - val_accuracy: 1.0000\n",
            "Epoch 71/999\n",
            "16/16 [==============================] - 1s 80ms/step - loss: 0.0232 - accuracy: 1.0000 - val_loss: 0.0617 - val_accuracy: 0.9623\n",
            "Epoch 72/999\n",
            "16/16 [==============================] - 1s 80ms/step - loss: 0.0225 - accuracy: 1.0000 - val_loss: 0.0324 - val_accuracy: 1.0000\n",
            "Epoch 73/999\n",
            "16/16 [==============================] - 1s 80ms/step - loss: 0.0222 - accuracy: 1.0000 - val_loss: 0.0370 - val_accuracy: 1.0000\n",
            "Epoch 74/999\n",
            "16/16 [==============================] - 1s 80ms/step - loss: 0.0231 - accuracy: 1.0000 - val_loss: 0.0894 - val_accuracy: 0.9623\n",
            "Epoch 75/999\n",
            "16/16 [==============================] - 1s 80ms/step - loss: 0.0226 - accuracy: 1.0000 - val_loss: 0.0469 - val_accuracy: 0.9811\n",
            "Epoch 76/999\n",
            "16/16 [==============================] - 1s 82ms/step - loss: 0.0222 - accuracy: 1.0000 - val_loss: 0.0452 - val_accuracy: 1.0000\n",
            "\n",
            "Epoch 00076: ReduceLROnPlateau reducing learning rate to 1.0000001111620805e-07.\n",
            "Epoch 77/999\n",
            "16/16 [==============================] - 1s 83ms/step - loss: 0.0236 - accuracy: 1.0000 - val_loss: 0.0351 - val_accuracy: 1.0000\n",
            "Epoch 78/999\n",
            "16/16 [==============================] - 1s 79ms/step - loss: 0.0258 - accuracy: 1.0000 - val_loss: 0.0305 - val_accuracy: 1.0000\n",
            "Epoch 79/999\n",
            "16/16 [==============================] - 1s 81ms/step - loss: 0.0347 - accuracy: 0.9920 - val_loss: 0.0438 - val_accuracy: 1.0000\n",
            "Epoch 80/999\n",
            "16/16 [==============================] - 1s 82ms/step - loss: 0.0237 - accuracy: 1.0000 - val_loss: 0.0285 - val_accuracy: 1.0000\n",
            "Epoch 81/999\n",
            "16/16 [==============================] - 1s 80ms/step - loss: 0.0326 - accuracy: 0.9974 - val_loss: 0.0293 - val_accuracy: 1.0000\n",
            "Epoch 82/999\n",
            "16/16 [==============================] - 1s 83ms/step - loss: 0.0227 - accuracy: 1.0000 - val_loss: 0.0804 - val_accuracy: 0.9811\n",
            "Epoch 83/999\n",
            "16/16 [==============================] - 1s 79ms/step - loss: 0.0225 - accuracy: 1.0000 - val_loss: 0.0333 - val_accuracy: 1.0000\n",
            "Epoch 84/999\n",
            "16/16 [==============================] - 1s 81ms/step - loss: 0.0229 - accuracy: 1.0000 - val_loss: 0.0313 - val_accuracy: 1.0000\n",
            "\n",
            "Epoch 00084: ReduceLROnPlateau reducing learning rate to 1.000000082740371e-08.\n",
            "Epoch 85/999\n",
            "16/16 [==============================] - 1s 80ms/step - loss: 0.0231 - accuracy: 1.0000 - val_loss: 0.0801 - val_accuracy: 0.9811\n",
            "Epoch 86/999\n",
            "16/16 [==============================] - 1s 81ms/step - loss: 0.0251 - accuracy: 0.9986 - val_loss: 0.0936 - val_accuracy: 0.9811\n",
            "Epoch 87/999\n",
            "16/16 [==============================] - 1s 81ms/step - loss: 0.0231 - accuracy: 1.0000 - val_loss: 0.0261 - val_accuracy: 1.0000\n",
            "Epoch 88/999\n",
            "16/16 [==============================] - 1s 80ms/step - loss: 0.0235 - accuracy: 1.0000 - val_loss: 0.0396 - val_accuracy: 1.0000\n",
            "Epoch 00088: early stopping\n"
          ],
          "name": "stdout"
        }
      ]
    },
    {
      "cell_type": "markdown",
      "metadata": {
        "id": "UITyE4QViU-x"
      },
      "source": [
        "return되는 hist를 통해 학습 과정을 시각화 할 수 있습니다."
      ]
    },
    {
      "cell_type": "code",
      "metadata": {
        "id": "hP9AUVscAa5v"
      },
      "source": [
        "def print_acc_loss(history):\n",
        "    # 평가 결과 도식화\n",
        "    import matplotlib.pyplot as plt\n",
        "    fig, loss_ax = plt.subplots(figsize=(10, 5))\n",
        "    acc_ax = loss_ax.twinx()\n",
        "    loss_ax.plot(history.history['loss'], 'y', label='train loss')\n",
        "    loss_ax.plot(history.history['val_loss'], 'r', label='val loss')\n",
        "    acc_ax.plot(history.history['accuracy'], 'b', label='train acc')\n",
        "    acc_ax.plot(history.history['val_accuracy'], 'g', label='val acc')\n",
        "    loss_ax.set_xlabel('epoch')\n",
        "    loss_ax.set_ylabel('loss')\n",
        "    acc_ax.set_ylabel('accuray')\n",
        "    loss_ax.legend(loc='upper left')\n",
        "    acc_ax.legend(loc='lower left')\n",
        "\n",
        "    plt.show()"
      ],
      "execution_count": null,
      "outputs": []
    },
    {
      "cell_type": "code",
      "metadata": {
        "colab": {
          "base_uri": "https://localhost:8080/",
          "height": 335
        },
        "id": "kZw1oC-RAyok",
        "outputId": "a1e63438-84a4-4b5f-c5f5-6c07e5a157d6"
      },
      "source": [
        "print_acc_loss(hist)"
      ],
      "execution_count": null,
      "outputs": [
        {
          "output_type": "display_data",
          "data": {
            "image/png": "[encoded data removed]",
            "text/plain": [
              "<Figure size 720x360 with 2 Axes>"
            ]
          },
          "metadata": {
            "tags": [],
            "needs_background": "light"
          }
        }
      ]
    },
    {
      "cell_type": "markdown",
      "metadata": {
        "id": "TL3-1W4Ii57w"
      },
      "source": [
        "###4.1 학습 검증"
      ]
    },
    {
      "cell_type": "markdown",
      "metadata": {
        "id": "2r1RVFWPjKgM"
      },
      "source": [
        "call back 에 의해서 학습된 모델은 자동으로 저장됩니다. \n",
        "\n",
        "혹은 모델을 직접 저장해서 사용할 수도 있습니다. \n",
        "모델은 load_model로 불러와 사용할 수 있습니다."
      ]
    },
    {
      "cell_type": "code",
      "metadata": {
        "id": "ABPpkrjcA0v1"
      },
      "source": [
        "def load_model(model_name):\n",
        "    from tensorflow.keras.models import load_model\n",
        "    model = load_model(model_name)\n",
        "    return model\n",
        "\n",
        "def acc_chk(model, val):\n",
        "    acc = model.evaluate(val)[1]\n",
        "    print('model accuracy: {}'.format(round(acc,4)))"
      ],
      "execution_count": null,
      "outputs": []
    },
    {
      "cell_type": "code",
      "metadata": {
        "colab": {
          "base_uri": "https://localhost:8080/"
        },
        "id": "C1q3rTZpBZIH",
        "outputId": "8da46879-95b6-4181-df66-138f7aab1c10"
      },
      "source": [
        "model = load_model('ckpt.h5')\n",
        "acc_chk(model, val_generator)"
      ],
      "execution_count": null,
      "outputs": [
        {
          "output_type": "stream",
          "text": [
            "2/2 [==============================] - 0s 27ms/step - loss: 0.0237 - accuracy: 1.0000\n",
            "model accuracy: 1.0\n"
          ],
          "name": "stdout"
        }
      ]
    },
    {
      "cell_type": "markdown",
      "metadata": {
        "id": "u71h9Bs-jjb3"
      },
      "source": [
        "##5. 추론"
      ]
    },
    {
      "cell_type": "markdown",
      "metadata": {
        "id": "5DHwSeFSjpeP"
      },
      "source": [
        "한장의 이미지를 불러와 모델에 넣어 추론합니다.\n",
        "\n",
        "모든 과정은 numpy와 함께 합니다."
      ]
    },
    {
      "cell_type": "code",
      "metadata": {
        "id": "qCDY_Z-jCD9w"
      },
      "source": [
        "import PIL.Image as Img\n",
        "import numpy as np\n",
        "\n",
        "def get_test_img(path):\n",
        "  img = Img.open(path).convert('RGB')\n",
        "  img = img.resize((28,28))\n",
        "  x = img_to_array(img)\n",
        "  x = x.reshape((1,) + x.shape)\n",
        "\n",
        "  return x\n",
        "\n"
      ],
      "execution_count": null,
      "outputs": []
    },
    {
      "cell_type": "code",
      "metadata": {
        "colab": {
          "base_uri": "https://localhost:8080/"
        },
        "id": "6dpb79EsNHQR",
        "outputId": "cc9636cf-0511-49fa-ff9f-d5be8885ccfe"
      },
      "source": [
        "# 이미지를 바꿔 가며 index의 변화를 확인해 보세요.\n",
        "test_image = get_test_img('/content/ex/a.png')\n",
        "result = model.predict(test_image)\n",
        "\n",
        "max = np.max(result)\n",
        "index = np.where(result == max)\n",
        "\n",
        "print(max, *index[1])"
      ],
      "execution_count": null,
      "outputs": [
        {
          "output_type": "stream",
          "text": [
            "0.9992459 0\n"
          ],
          "name": "stdout"
        }
      ]
    },
    {
      "cell_type": "markdown",
      "metadata": {
        "id": "Ty2Iuzkhj81b"
      },
      "source": [
        "dir list에서 확장자를 제거하여 label로 사용하도록 하겠습니다."
      ]
    },
    {
      "cell_type": "code",
      "metadata": {
        "colab": {
          "base_uri": "https://localhost:8080/"
        },
        "id": "ijo0GC1wL6Qo",
        "outputId": "5e5be654-1c0a-44f9-8b24-f5dee627ac03"
      },
      "source": [
        "tmp = []\n",
        "for file in dir:\n",
        "  tmp.append(file.split('.')[0])\n",
        "dir = tmp\n",
        "dir.sort()\n",
        "del dir[dir.index('zz')]\n",
        "dir.append(' ')\n",
        "print(dir)"
      ],
      "execution_count": null,
      "outputs": [
        {
          "output_type": "stream",
          "text": [
            "['a', 'b', 'c', 'd', 'e', 'f', 'g', 'h', 'i', 'j', 'k', 'l', 'm', 'n', 'o', 'p', 'q', 'r', 's', 't', 'u', 'v', 'w', 'x', 'y', 'z', ' ']\n"
          ],
          "name": "stdout"
        }
      ]
    },
    {
      "cell_type": "code",
      "metadata": {
        "id": "eIaaq7hRMRdW"
      },
      "source": [
        "def decode_predict(result,lables):\n",
        "  max = np.max(result)\n",
        "  index = np.where(result == max)\n",
        "  # print(index[1])\n",
        "  # print(tags[index[1][0]])\n",
        "\n",
        "  return lables[index[1][0]]\n"
      ],
      "execution_count": null,
      "outputs": []
    },
    {
      "cell_type": "code",
      "metadata": {
        "colab": {
          "base_uri": "https://localhost:8080/"
        },
        "id": "qJsqHO6POipM",
        "outputId": "558a4f6c-a02e-4e03-e7ae-87d8dbb4882b"
      },
      "source": [
        "test_image = get_test_img('/content/ex/zz.png')\n",
        "result = model.predict(test_image)\n",
        "decoded = decode_predict(result, lables=dir)\n",
        "\n",
        "print(f'predicted! : {decoded}')"
      ],
      "execution_count": null,
      "outputs": [
        {
          "output_type": "stream",
          "text": [
            "predicted! :  \n"
          ],
          "name": "stdout"
        }
      ]
    }
  ]
}